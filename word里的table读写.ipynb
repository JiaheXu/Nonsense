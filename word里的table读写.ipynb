{
 "cells": [
  {
   "cell_type": "code",
   "execution_count": null,
   "metadata": {},
   "outputs": [],
   "source": [
    "import docx"
   ]
  },
  {
   "cell_type": "code",
   "execution_count": null,
   "metadata": {},
   "outputs": [],
   "source": [
    "\n",
    "\n",
    "fn = r'word.docx'\n",
    "doc = docx.Document(fn)\n",
    "\n",
    "# 按段落读取全部数据\n",
    "for paragraph in doc.paragraphs:\n",
    "    print(paragraph.text)\n",
    "\n",
    "# 按表格读取全部数据\n",
    "for table in doc.tables:\n",
    "    for row in table.rows:\n",
    "        for cell in row.cells:\n",
    "            print(cell.text)\n",
    "\n",
    "table_num = len(doc.tables)\n",
    "# 获取文档的表格个数\n",
    "print(table_num)\n",
    "\n",
    "table_0 = doc.tables[0]\n",
    "# 选取第一个表\n",
    "table_rows = len(table_0.rows)\n",
    "# 获取第一个表的行数\n",
    "print(table_rows)\n",
    "\n",
    "tab = doc.tables[0].rows[0].cells[0]\n",
    "# 获取第一张表第一行第一列数据\n",
    "print(tab.text)\n",
    "\n",
    "par = doc.paragraphs[2]\n",
    "# 读取第三段数据\n",
    "print(par.text)"
   ]
  },
  {
   "cell_type": "code",
   "execution_count": null,
   "metadata": {},
   "outputs": [],
   "source": []
  }
 ],
 "metadata": {
  "kernelspec": {
   "display_name": "Python 3",
   "language": "python",
   "name": "python3"
  },
  "language_info": {
   "codemirror_mode": {
    "name": "ipython",
    "version": 3
   },
   "file_extension": ".py",
   "mimetype": "text/x-python",
   "name": "python",
   "nbconvert_exporter": "python",
   "pygments_lexer": "ipython3",
   "version": "3.8.3"
  }
 },
 "nbformat": 4,
 "nbformat_minor": 4
}
