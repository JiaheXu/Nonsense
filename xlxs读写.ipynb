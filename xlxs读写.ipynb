{
 "cells": [
  {
   "cell_type": "code",
   "execution_count": 1,
   "metadata": {},
   "outputs": [],
   "source": [
    "import openpyxl\n",
    "import xlrd\n",
    "import sys\n",
    "import os\n",
    "from openpyxl import Workbook\n",
    "from openpyxl import load_workbook"
   ]
  },
  {
   "cell_type": "code",
   "execution_count": 19,
   "metadata": {
    "scrolled": false
   },
   "outputs": [
    {
     "name": "stderr",
     "output_type": "stream",
     "text": [
      "<ipython-input-19-b865729e72d0>:5: DeprecationWarning: Call to deprecated function get_sheet_names (Use wb.sheetnames).\n",
      "  sheet_name= excel.get_sheet_names()[3]\n",
      "<ipython-input-19-b865729e72d0>:6: DeprecationWarning: Call to deprecated function get_sheet_by_name (Use wb[sheetname]).\n",
      "  sheet = excel.get_sheet_by_name(sheet_name)   #通过表名获取\n",
      "<ipython-input-19-b865729e72d0>:8: DeprecationWarning: Call to deprecated function get_sheet_names (Use wb.sheetnames).\n",
      "  sheet_name1= excel.get_sheet_names()[1]\n",
      "<ipython-input-19-b865729e72d0>:9: DeprecationWarning: Call to deprecated function get_sheet_by_name (Use wb[sheetname]).\n",
      "  sheet1 = excel.get_sheet_by_name(sheet_name1)\n"
     ]
    }
   ],
   "source": [
    "\n",
    "\n",
    "def read_excel():\n",
    "    \n",
    "    excel=load_workbook('填工作证号-2.xlsx')\n",
    "    #获取sheet    \n",
    "    sheet_name= excel.get_sheet_names()[3]\n",
    "    sheet = excel.get_sheet_by_name(sheet_name)   #通过表名获取  \n",
    "    \n",
    "    sheet_name1= excel.get_sheet_names()[1]\n",
    "    sheet1 = excel.get_sheet_by_name(sheet_name1)\n",
    "    #获取行数和列数：\n",
    "    \n",
    "    \n",
    "    nrows = 229\n",
    "    for i in range(1, nrows):\n",
    "\n",
    "        NAME = str(sheet.cell(row=i,column=1).value)\n",
    "        NAME = NAME.replace(' ','')\n",
    "        #print(NAME)\n",
    "        flag = 0\n",
    "        \n",
    "        \n",
    "        for j in range(1 , 205 ):\n",
    "            NAME1 = str(sheet1.cell(row=j,column=1).value)\n",
    "            NAME1 = NAME1.replace(' ','')\n",
    "            if(NAME == NAME1):\n",
    "                flag = 1\n",
    "                \n",
    "               # print(str(sheet1.cell(row=j,column=2).value))\n",
    "                \n",
    "                sheet.cell(row=i,column=5).value = str(sheet1.cell(row=j,column=2).value)\n",
    "                #if(str(sheet1.row_values(j)[1]) != 'd10476' ):\n",
    "                #    print(int(sheet1.row_values(j)[1]))\n",
    "                #else:\n",
    "                #    print('d10476')\n",
    "                \n",
    "        #if(flag == 0):\n",
    "            #print(' ')\n",
    "    excel.save('填工作证号-2.xlsx')\n",
    "    \n",
    "if __name__ == '__main__':\n",
    "    read_excel()"
   ]
  },
  {
   "cell_type": "code",
   "execution_count": null,
   "metadata": {},
   "outputs": [],
   "source": []
  },
  {
   "cell_type": "code",
   "execution_count": null,
   "metadata": {},
   "outputs": [],
   "source": []
  }
 ],
 "metadata": {
  "kernelspec": {
   "display_name": "Python 3",
   "language": "python",
   "name": "python3"
  },
  "language_info": {
   "codemirror_mode": {
    "name": "ipython",
    "version": 3
   },
   "file_extension": ".py",
   "mimetype": "text/x-python",
   "name": "python",
   "nbconvert_exporter": "python",
   "pygments_lexer": "ipython3",
   "version": "3.8.3"
  }
 },
 "nbformat": 4,
 "nbformat_minor": 4
}
